{
  "cells": [
    {
      "cell_type": "markdown",
      "id": "858788d6",
      "metadata": {
        "id": "858788d6"
      },
      "source": [
        "The attached data files are a sample of the UK Road Safety Data for 2019, available from [the UK Department for Transport](https://data.gov.uk/dataset/cb7ae6f0-4be6-4935-9277-47e5ce24a11f/road-safety-data). The first file contains some data on accidents, while the second file contains ages of vehicles that were involved in these accidents.\n",
        "\n",
        "    (1) Find out the number of columns and observations in each file\n",
        "    (2) Find out information stored in each column and the data type of each column\n",
        "    (3) Convert the column containing dates to the datetime type\n",
        "    (4) Plot the number of accidents per day\n",
        "    (5) Find out how many accidents happened during rain or snow? (bonus question)\n",
        "\n",
        "You need to supply the code in cells indicated with \"???\""
      ]
    },
    {
      "cell_type": "code",
      "execution_count": 2,
      "id": "3383bbf3",
      "metadata": {
        "id": "3383bbf3"
      },
      "outputs": [],
      "source": [
        "# import pandas\n",
        "import pandas as pd\n",
        "\n",
        "# import seaborn\n",
        "import seaborn as sns\n",
        "sns.set_theme(palette=\"Set2\")"
      ]
    },
    {
      "cell_type": "code",
      "execution_count": 3,
      "id": "3e2a9e96",
      "metadata": {
        "id": "3e2a9e96"
      },
      "outputs": [],
      "source": [
        "# load the data\n",
        "df1 = pd.read_csv(\"accidents.csv\")\n",
        "df2 = pd.read_csv(\"vehicles.csv\")"
      ]
    },
    {
      "cell_type": "markdown",
      "id": "6926eef0",
      "metadata": {
        "id": "6926eef0"
      },
      "source": [
        "# The number of columns and observations in each file"
      ]
    },
    {
      "cell_type": "code",
      "execution_count": 4,
      "id": "0ce8f81e",
      "metadata": {
        "colab": {
          "base_uri": "https://localhost:8080/"
        },
        "id": "0ce8f81e",
        "outputId": "5decaa69-53c1-4e92-c92a-342f5278d7d1"
      },
      "outputs": [
        {
          "output_type": "execute_result",
          "data": {
            "text/plain": [
              "4"
            ]
          },
          "metadata": {},
          "execution_count": 4
        }
      ],
      "source": [
        "len(df1.columns)"
      ]
    },
    {
      "cell_type": "code",
      "execution_count": 5,
      "id": "2fbdc86a",
      "metadata": {
        "colab": {
          "base_uri": "https://localhost:8080/"
        },
        "id": "2fbdc86a",
        "outputId": "0178a170-1fe5-431a-ccfe-e7be46447b10"
      },
      "outputs": [
        {
          "output_type": "execute_result",
          "data": {
            "text/plain": [
              "2"
            ]
          },
          "metadata": {},
          "execution_count": 5
        }
      ],
      "source": [
        "len(df2.columns)"
      ]
    },
    {
      "cell_type": "markdown",
      "id": "adfb2d85",
      "metadata": {
        "id": "adfb2d85"
      },
      "source": [
        "# Information stored in each column and the data type of each column"
      ]
    },
    {
      "cell_type": "code",
      "execution_count": 6,
      "id": "e6366f14",
      "metadata": {
        "colab": {
          "base_uri": "https://localhost:8080/"
        },
        "id": "e6366f14",
        "outputId": "22cb4063-32f5-4074-f8a0-c22c3ac2e5d8"
      },
      "outputs": [
        {
          "output_type": "stream",
          "name": "stdout",
          "text": [
            "<class 'pandas.core.frame.DataFrame'>\n",
            "RangeIndex: 1000 entries, 0 to 999\n",
            "Data columns (total 4 columns):\n",
            " #   Column              Non-Null Count  Dtype \n",
            "---  ------              --------------  ----- \n",
            " 0   Accident_Index      1000 non-null   object\n",
            " 1   Accident_Severity   1000 non-null   int64 \n",
            " 2   Date                1000 non-null   object\n",
            " 3   Weather_Conditions  1000 non-null   int64 \n",
            "dtypes: int64(2), object(2)\n",
            "memory usage: 31.4+ KB\n"
          ]
        }
      ],
      "source": [
        "df1.info()"
      ]
    },
    {
      "cell_type": "code",
      "execution_count": 7,
      "id": "5f18dc26",
      "metadata": {
        "colab": {
          "base_uri": "https://localhost:8080/"
        },
        "id": "5f18dc26",
        "outputId": "88ea646d-8d42-45d7-849e-3bca9b9c4c7e"
      },
      "outputs": [
        {
          "output_type": "stream",
          "name": "stdout",
          "text": [
            "<class 'pandas.core.frame.DataFrame'>\n",
            "RangeIndex: 2119 entries, 0 to 2118\n",
            "Data columns (total 2 columns):\n",
            " #   Column          Non-Null Count  Dtype \n",
            "---  ------          --------------  ----- \n",
            " 0   Accident_Index  2119 non-null   object\n",
            " 1   Age_of_Vehicle  2119 non-null   int64 \n",
            "dtypes: int64(1), object(1)\n",
            "memory usage: 33.2+ KB\n"
          ]
        }
      ],
      "source": [
        "df2.info()"
      ]
    },
    {
      "cell_type": "markdown",
      "id": "a3c5e0bf",
      "metadata": {
        "id": "a3c5e0bf"
      },
      "source": [
        "# Convert column containing dates to the datetime type"
      ]
    },
    {
      "cell_type": "code",
      "execution_count": 11,
      "id": "95a3d2f8",
      "metadata": {
        "colab": {
          "base_uri": "https://localhost:8080/"
        },
        "id": "95a3d2f8",
        "outputId": "68401c94-7cda-478c-9529-b71a20a48ea2"
      },
      "outputs": [
        {
          "output_type": "execute_result",
          "data": {
            "text/plain": [
              "(1000,)"
            ]
          },
          "metadata": {},
          "execution_count": 11
        }
      ],
      "source": [
        "# check how dates are represented\n",
        "df1.head()\n",
        "df1[\"Date\"].shape"
      ]
    },
    {
      "cell_type": "code",
      "execution_count": 12,
      "id": "6ad13c29",
      "metadata": {
        "colab": {
          "base_uri": "https://localhost:8080/",
          "height": 454
        },
        "id": "6ad13c29",
        "outputId": "d38b498b-190f-4fa0-96d0-c2a389615127"
      },
      "outputs": [
        {
          "output_type": "error",
          "ename": "ValueError",
          "evalue": "time data \"18/01/2019\" doesn't match format \"%m/%d/%Y\", at position 1. You might want to try:\n    - passing `format` if your strings have a consistent format;\n    - passing `format='ISO8601'` if your strings are all ISO8601 but not necessarily in exactly the same format;\n    - passing `format='mixed'`, and the format will be inferred for each element individually. You might want to use `dayfirst` alongside this.",
          "traceback": [
            "\u001b[0;31m---------------------------------------------------------------------------\u001b[0m",
            "\u001b[0;31mValueError\u001b[0m                                Traceback (most recent call last)",
            "\u001b[0;32m<ipython-input-12-3e7620558b14>\u001b[0m in \u001b[0;36m<cell line: 0>\u001b[0;34m()\u001b[0m\n\u001b[0;32m----> 1\u001b[0;31m \u001b[0mdf1\u001b[0m\u001b[0;34m[\u001b[0m\u001b[0;34m\"Date\"\u001b[0m\u001b[0;34m]\u001b[0m \u001b[0;34m=\u001b[0m \u001b[0mpd\u001b[0m\u001b[0;34m.\u001b[0m\u001b[0mto_datetime\u001b[0m\u001b[0;34m(\u001b[0m\u001b[0mdf1\u001b[0m\u001b[0;34m[\u001b[0m\u001b[0;34m\"Date\"\u001b[0m\u001b[0;34m]\u001b[0m\u001b[0;34m)\u001b[0m\u001b[0;34m\u001b[0m\u001b[0;34m\u001b[0m\u001b[0m\n\u001b[0m",
            "\u001b[0;32m/usr/local/lib/python3.11/dist-packages/pandas/core/tools/datetimes.py\u001b[0m in \u001b[0;36mto_datetime\u001b[0;34m(arg, errors, dayfirst, yearfirst, utc, format, exact, unit, infer_datetime_format, origin, cache)\u001b[0m\n\u001b[1;32m   1065\u001b[0m             \u001b[0mresult\u001b[0m \u001b[0;34m=\u001b[0m \u001b[0marg\u001b[0m\u001b[0;34m.\u001b[0m\u001b[0mmap\u001b[0m\u001b[0;34m(\u001b[0m\u001b[0mcache_array\u001b[0m\u001b[0;34m)\u001b[0m\u001b[0;34m\u001b[0m\u001b[0;34m\u001b[0m\u001b[0m\n\u001b[1;32m   1066\u001b[0m         \u001b[0;32melse\u001b[0m\u001b[0;34m:\u001b[0m\u001b[0;34m\u001b[0m\u001b[0;34m\u001b[0m\u001b[0m\n\u001b[0;32m-> 1067\u001b[0;31m             \u001b[0mvalues\u001b[0m \u001b[0;34m=\u001b[0m \u001b[0mconvert_listlike\u001b[0m\u001b[0;34m(\u001b[0m\u001b[0marg\u001b[0m\u001b[0;34m.\u001b[0m\u001b[0m_values\u001b[0m\u001b[0;34m,\u001b[0m \u001b[0mformat\u001b[0m\u001b[0;34m)\u001b[0m\u001b[0;34m\u001b[0m\u001b[0;34m\u001b[0m\u001b[0m\n\u001b[0m\u001b[1;32m   1068\u001b[0m             \u001b[0mresult\u001b[0m \u001b[0;34m=\u001b[0m \u001b[0marg\u001b[0m\u001b[0;34m.\u001b[0m\u001b[0m_constructor\u001b[0m\u001b[0;34m(\u001b[0m\u001b[0mvalues\u001b[0m\u001b[0;34m,\u001b[0m \u001b[0mindex\u001b[0m\u001b[0;34m=\u001b[0m\u001b[0marg\u001b[0m\u001b[0;34m.\u001b[0m\u001b[0mindex\u001b[0m\u001b[0;34m,\u001b[0m \u001b[0mname\u001b[0m\u001b[0;34m=\u001b[0m\u001b[0marg\u001b[0m\u001b[0;34m.\u001b[0m\u001b[0mname\u001b[0m\u001b[0;34m)\u001b[0m\u001b[0;34m\u001b[0m\u001b[0;34m\u001b[0m\u001b[0m\n\u001b[1;32m   1069\u001b[0m     \u001b[0;32melif\u001b[0m \u001b[0misinstance\u001b[0m\u001b[0;34m(\u001b[0m\u001b[0marg\u001b[0m\u001b[0;34m,\u001b[0m \u001b[0;34m(\u001b[0m\u001b[0mABCDataFrame\u001b[0m\u001b[0;34m,\u001b[0m \u001b[0mabc\u001b[0m\u001b[0;34m.\u001b[0m\u001b[0mMutableMapping\u001b[0m\u001b[0;34m)\u001b[0m\u001b[0;34m)\u001b[0m\u001b[0;34m:\u001b[0m\u001b[0;34m\u001b[0m\u001b[0;34m\u001b[0m\u001b[0m\n",
            "\u001b[0;32m/usr/local/lib/python3.11/dist-packages/pandas/core/tools/datetimes.py\u001b[0m in \u001b[0;36m_convert_listlike_datetimes\u001b[0;34m(arg, format, name, utc, unit, errors, dayfirst, yearfirst, exact)\u001b[0m\n\u001b[1;32m    431\u001b[0m     \u001b[0;31m# `format` could be inferred, or user didn't ask for mixed-format parsing.\u001b[0m\u001b[0;34m\u001b[0m\u001b[0;34m\u001b[0m\u001b[0m\n\u001b[1;32m    432\u001b[0m     \u001b[0;32mif\u001b[0m \u001b[0mformat\u001b[0m \u001b[0;32mis\u001b[0m \u001b[0;32mnot\u001b[0m \u001b[0;32mNone\u001b[0m \u001b[0;32mand\u001b[0m \u001b[0mformat\u001b[0m \u001b[0;34m!=\u001b[0m \u001b[0;34m\"mixed\"\u001b[0m\u001b[0;34m:\u001b[0m\u001b[0;34m\u001b[0m\u001b[0;34m\u001b[0m\u001b[0m\n\u001b[0;32m--> 433\u001b[0;31m         \u001b[0;32mreturn\u001b[0m \u001b[0m_array_strptime_with_fallback\u001b[0m\u001b[0;34m(\u001b[0m\u001b[0marg\u001b[0m\u001b[0;34m,\u001b[0m \u001b[0mname\u001b[0m\u001b[0;34m,\u001b[0m \u001b[0mutc\u001b[0m\u001b[0;34m,\u001b[0m \u001b[0mformat\u001b[0m\u001b[0;34m,\u001b[0m \u001b[0mexact\u001b[0m\u001b[0;34m,\u001b[0m \u001b[0merrors\u001b[0m\u001b[0;34m)\u001b[0m\u001b[0;34m\u001b[0m\u001b[0;34m\u001b[0m\u001b[0m\n\u001b[0m\u001b[1;32m    434\u001b[0m \u001b[0;34m\u001b[0m\u001b[0m\n\u001b[1;32m    435\u001b[0m     result, tz_parsed = objects_to_datetime64(\n",
            "\u001b[0;32m/usr/local/lib/python3.11/dist-packages/pandas/core/tools/datetimes.py\u001b[0m in \u001b[0;36m_array_strptime_with_fallback\u001b[0;34m(arg, name, utc, fmt, exact, errors)\u001b[0m\n\u001b[1;32m    465\u001b[0m     \u001b[0mCall\u001b[0m \u001b[0marray_strptime\u001b[0m\u001b[0;34m,\u001b[0m \u001b[0;32mwith\u001b[0m \u001b[0mfallback\u001b[0m \u001b[0mbehavior\u001b[0m \u001b[0mdepending\u001b[0m \u001b[0mon\u001b[0m \u001b[0;34m'errors'\u001b[0m\u001b[0;34m.\u001b[0m\u001b[0;34m\u001b[0m\u001b[0;34m\u001b[0m\u001b[0m\n\u001b[1;32m    466\u001b[0m     \"\"\"\n\u001b[0;32m--> 467\u001b[0;31m     \u001b[0mresult\u001b[0m\u001b[0;34m,\u001b[0m \u001b[0mtz_out\u001b[0m \u001b[0;34m=\u001b[0m \u001b[0marray_strptime\u001b[0m\u001b[0;34m(\u001b[0m\u001b[0marg\u001b[0m\u001b[0;34m,\u001b[0m \u001b[0mfmt\u001b[0m\u001b[0;34m,\u001b[0m \u001b[0mexact\u001b[0m\u001b[0;34m=\u001b[0m\u001b[0mexact\u001b[0m\u001b[0;34m,\u001b[0m \u001b[0merrors\u001b[0m\u001b[0;34m=\u001b[0m\u001b[0merrors\u001b[0m\u001b[0;34m,\u001b[0m \u001b[0mutc\u001b[0m\u001b[0;34m=\u001b[0m\u001b[0mutc\u001b[0m\u001b[0;34m)\u001b[0m\u001b[0;34m\u001b[0m\u001b[0;34m\u001b[0m\u001b[0m\n\u001b[0m\u001b[1;32m    468\u001b[0m     \u001b[0;32mif\u001b[0m \u001b[0mtz_out\u001b[0m \u001b[0;32mis\u001b[0m \u001b[0;32mnot\u001b[0m \u001b[0;32mNone\u001b[0m\u001b[0;34m:\u001b[0m\u001b[0;34m\u001b[0m\u001b[0;34m\u001b[0m\u001b[0m\n\u001b[1;32m    469\u001b[0m         \u001b[0munit\u001b[0m \u001b[0;34m=\u001b[0m \u001b[0mnp\u001b[0m\u001b[0;34m.\u001b[0m\u001b[0mdatetime_data\u001b[0m\u001b[0;34m(\u001b[0m\u001b[0mresult\u001b[0m\u001b[0;34m.\u001b[0m\u001b[0mdtype\u001b[0m\u001b[0;34m)\u001b[0m\u001b[0;34m[\u001b[0m\u001b[0;36m0\u001b[0m\u001b[0;34m]\u001b[0m\u001b[0;34m\u001b[0m\u001b[0;34m\u001b[0m\u001b[0m\n",
            "\u001b[0;32mstrptime.pyx\u001b[0m in \u001b[0;36mpandas._libs.tslibs.strptime.array_strptime\u001b[0;34m()\u001b[0m\n",
            "\u001b[0;32mstrptime.pyx\u001b[0m in \u001b[0;36mpandas._libs.tslibs.strptime.array_strptime\u001b[0;34m()\u001b[0m\n",
            "\u001b[0;32mstrptime.pyx\u001b[0m in \u001b[0;36mpandas._libs.tslibs.strptime._parse_with_format\u001b[0;34m()\u001b[0m\n",
            "\u001b[0;31mValueError\u001b[0m: time data \"18/01/2019\" doesn't match format \"%m/%d/%Y\", at position 1. You might want to try:\n    - passing `format` if your strings have a consistent format;\n    - passing `format='ISO8601'` if your strings are all ISO8601 but not necessarily in exactly the same format;\n    - passing `format='mixed'`, and the format will be inferred for each element individually. You might want to use `dayfirst` alongside this."
          ]
        }
      ],
      "source": [
        "df1[\"Date\"] = pd.to_datetime(df1[\"Date\"])"
      ]
    },
    {
      "cell_type": "code",
      "execution_count": 13,
      "id": "012d6124",
      "metadata": {
        "colab": {
          "base_uri": "https://localhost:8080/",
          "height": 204
        },
        "id": "012d6124",
        "outputId": "c7690eb7-269d-4995-9d9f-fc8cfdc00188"
      },
      "outputs": [
        {
          "output_type": "execute_result",
          "data": {
            "text/plain": [
              "<bound method Series.info of 0      11/01/2019\n",
              "1      18/01/2019\n",
              "2      22/01/2019\n",
              "3      23/01/2019\n",
              "4      25/01/2019\n",
              "          ...    \n",
              "995    03/06/2019\n",
              "996    25/04/2019\n",
              "997    24/03/2019\n",
              "998    19/05/2019\n",
              "999    23/08/2019\n",
              "Name: Date, Length: 1000, dtype: object>"
            ],
            "text/html": [
              "<div style=\"max-width:800px; border: 1px solid var(--colab-border-color);\"><style>\n",
              "      pre.function-repr-contents {\n",
              "        overflow-x: auto;\n",
              "        padding: 8px 12px;\n",
              "        max-height: 500px;\n",
              "      }\n",
              "\n",
              "      pre.function-repr-contents.function-repr-contents-collapsed {\n",
              "        cursor: pointer;\n",
              "        max-height: 100px;\n",
              "      }\n",
              "    </style>\n",
              "    <pre style=\"white-space: initial; background:\n",
              "         var(--colab-secondary-surface-color); padding: 8px 12px;\n",
              "         border-bottom: 1px solid var(--colab-border-color);\"><b>pandas.core.series.Series.info</b><br/>def info(verbose: bool | None=None, buf: IO[str] | None=None, max_cols: int | None=None, memory_usage: bool | str | None=None, show_counts: bool=True) -&gt; None</pre><pre class=\"function-repr-contents function-repr-contents-collapsed\" style=\"\"><a class=\"filepath\" style=\"display:none\" href=\"#\">/usr/local/lib/python3.11/dist-packages/pandas/core/series.py</a>Print a concise summary of a Series.\n",
              "\n",
              "This method prints information about a Series including\n",
              "the index dtype, non-null values and memory usage.\n",
              "\n",
              ".. versionadded:: 1.4.0\n",
              "\n",
              "Parameters\n",
              "----------\n",
              "verbose : bool, optional\n",
              "    Whether to print the full summary. By default, the setting in\n",
              "    ``pandas.options.display.max_info_columns`` is followed.\n",
              "buf : writable buffer, defaults to sys.stdout\n",
              "    Where to send the output. By default, the output is printed to\n",
              "    sys.stdout. Pass a writable buffer if you need to further process\n",
              "    the output.\n",
              "\n",
              "memory_usage : bool, str, optional\n",
              "    Specifies whether total memory usage of the Series\n",
              "    elements (including the index) should be displayed. By default,\n",
              "    this follows the ``pandas.options.display.memory_usage`` setting.\n",
              "\n",
              "    True always show memory usage. False never shows memory usage.\n",
              "    A value of &#x27;deep&#x27; is equivalent to &quot;True with deep introspection&quot;.\n",
              "    Memory usage is shown in human-readable units (base-2\n",
              "    representation). Without deep introspection a memory estimation is\n",
              "    made based in column dtype and number of rows assuming values\n",
              "    consume the same memory amount for corresponding dtypes. With deep\n",
              "    memory introspection, a real memory usage calculation is performed\n",
              "    at the cost of computational resources. See the\n",
              "    :ref:`Frequently Asked Questions &lt;df-memory-usage&gt;` for more\n",
              "    details.\n",
              "show_counts : bool, optional\n",
              "    Whether to show the non-null counts. By default, this is shown\n",
              "    only if the DataFrame is smaller than\n",
              "    ``pandas.options.display.max_info_rows`` and\n",
              "    ``pandas.options.display.max_info_columns``. A value of True always\n",
              "    shows the counts, and False never shows the counts.\n",
              "\n",
              "Returns\n",
              "-------\n",
              "None\n",
              "    This method prints a summary of a Series and returns None.\n",
              "\n",
              "See Also\n",
              "--------\n",
              "Series.describe: Generate descriptive statistics of Series.\n",
              "Series.memory_usage: Memory usage of Series.\n",
              "\n",
              "Examples\n",
              "--------\n",
              "&gt;&gt;&gt; int_values = [1, 2, 3, 4, 5]\n",
              "&gt;&gt;&gt; text_values = [&#x27;alpha&#x27;, &#x27;beta&#x27;, &#x27;gamma&#x27;, &#x27;delta&#x27;, &#x27;epsilon&#x27;]\n",
              "&gt;&gt;&gt; s = pd.Series(text_values, index=int_values)\n",
              "&gt;&gt;&gt; s.info()\n",
              "&lt;class &#x27;pandas.core.series.Series&#x27;&gt;\n",
              "Index: 5 entries, 1 to 5\n",
              "Series name: None\n",
              "Non-Null Count  Dtype\n",
              "--------------  -----\n",
              "5 non-null      object\n",
              "dtypes: object(1)\n",
              "memory usage: 80.0+ bytes\n",
              "\n",
              "Prints a summary excluding information about its values:\n",
              "\n",
              "&gt;&gt;&gt; s.info(verbose=False)\n",
              "&lt;class &#x27;pandas.core.series.Series&#x27;&gt;\n",
              "Index: 5 entries, 1 to 5\n",
              "dtypes: object(1)\n",
              "memory usage: 80.0+ bytes\n",
              "\n",
              "Pipe output of Series.info to buffer instead of sys.stdout, get\n",
              "buffer content and writes to a text file:\n",
              "\n",
              "&gt;&gt;&gt; import io\n",
              "&gt;&gt;&gt; buffer = io.StringIO()\n",
              "&gt;&gt;&gt; s.info(buf=buffer)\n",
              "&gt;&gt;&gt; s = buffer.getvalue()\n",
              "&gt;&gt;&gt; with open(&quot;df_info.txt&quot;, &quot;w&quot;,\n",
              "...           encoding=&quot;utf-8&quot;) as f:  # doctest: +SKIP\n",
              "...     f.write(s)\n",
              "260\n",
              "\n",
              "The `memory_usage` parameter allows deep introspection mode, specially\n",
              "useful for big Series and fine-tune memory optimization:\n",
              "\n",
              "&gt;&gt;&gt; random_strings_array = np.random.choice([&#x27;a&#x27;, &#x27;b&#x27;, &#x27;c&#x27;], 10 ** 6)\n",
              "&gt;&gt;&gt; s = pd.Series(np.random.choice([&#x27;a&#x27;, &#x27;b&#x27;, &#x27;c&#x27;], 10 ** 6))\n",
              "&gt;&gt;&gt; s.info()\n",
              "&lt;class &#x27;pandas.core.series.Series&#x27;&gt;\n",
              "RangeIndex: 1000000 entries, 0 to 999999\n",
              "Series name: None\n",
              "Non-Null Count    Dtype\n",
              "--------------    -----\n",
              "1000000 non-null  object\n",
              "dtypes: object(1)\n",
              "memory usage: 7.6+ MB\n",
              "\n",
              "&gt;&gt;&gt; s.info(memory_usage=&#x27;deep&#x27;)\n",
              "&lt;class &#x27;pandas.core.series.Series&#x27;&gt;\n",
              "RangeIndex: 1000000 entries, 0 to 999999\n",
              "Series name: None\n",
              "Non-Null Count    Dtype\n",
              "--------------    -----\n",
              "1000000 non-null  object\n",
              "dtypes: object(1)\n",
              "memory usage: 55.3 MB</pre>\n",
              "      <script>\n",
              "      if (google.colab.kernel.accessAllowed && google.colab.files && google.colab.files.view) {\n",
              "        for (const element of document.querySelectorAll('.filepath')) {\n",
              "          element.style.display = 'block'\n",
              "          element.onclick = (event) => {\n",
              "            event.preventDefault();\n",
              "            event.stopPropagation();\n",
              "            google.colab.files.view(element.textContent, 5393);\n",
              "          };\n",
              "        }\n",
              "      }\n",
              "      for (const element of document.querySelectorAll('.function-repr-contents')) {\n",
              "        element.onclick = (event) => {\n",
              "          event.preventDefault();\n",
              "          event.stopPropagation();\n",
              "          element.classList.toggle('function-repr-contents-collapsed');\n",
              "        };\n",
              "      }\n",
              "      </script>\n",
              "      </div>"
            ]
          },
          "metadata": {},
          "execution_count": 13
        }
      ],
      "source": [
        "# verify that the conversion was successful\n",
        "df1.head()\n",
        "df1[\"Date\"].info"
      ]
    },
    {
      "cell_type": "markdown",
      "id": "a8091d19",
      "metadata": {
        "id": "a8091d19"
      },
      "source": [
        "# Plot the number of accidents per day"
      ]
    },
    {
      "cell_type": "code",
      "execution_count": null,
      "id": "5d234e8a",
      "metadata": {
        "id": "5d234e8a"
      },
      "outputs": [],
      "source": [
        "# Group the data by Date\n",
        "tmp = df1.groupby('Date').count()\n",
        "tmp.head()"
      ]
    },
    {
      "cell_type": "code",
      "execution_count": null,
      "id": "ebc5bc8b",
      "metadata": {
        "id": "ebc5bc8b"
      },
      "outputs": [],
      "source": [
        "???"
      ]
    },
    {
      "cell_type": "markdown",
      "id": "095b880e",
      "metadata": {
        "id": "095b880e"
      },
      "source": [
        "# How many accidents happened during rain or snow?"
      ]
    },
    {
      "cell_type": "code",
      "execution_count": null,
      "id": "10973032",
      "metadata": {
        "id": "10973032"
      },
      "outputs": [],
      "source": [
        "# replace integers with string values in the \"Weather_Conditions\" column\n",
        "\n",
        "replacement_dict = {\n",
        "    1: \"Fine no high winds\",\n",
        "    2: \"Raining no high winds\",\n",
        "    3: \"Snowing no high winds\",\n",
        "    4: \"Fine + high winds\",\n",
        "    5: \"Raining + high winds\",\n",
        "    6: \"Snowing + high winds\",\n",
        "    7: \"Fog or mist\",\n",
        "    8: \"Other\",\n",
        "    9: \"Unknown\",\n",
        "    -1: \"Data missing or out of range\"\n",
        "}\n",
        "df1.loc[:, 'Weather_Conditions'] = df1['Weather_Conditions'].map(replacement_dict)"
      ]
    },
    {
      "cell_type": "code",
      "execution_count": null,
      "id": "ddcbe04c",
      "metadata": {
        "id": "ddcbe04c"
      },
      "outputs": [],
      "source": [
        "# examine the result\n",
        "\n",
        "# option 1\n",
        "df1.head()\n",
        "\n",
        "# option 2\n",
        "df1[\"Weather_Conditions\"].unique()"
      ]
    },
    {
      "cell_type": "code",
      "execution_count": null,
      "id": "f3e802ca",
      "metadata": {
        "id": "f3e802ca"
      },
      "outputs": [],
      "source": [
        "???"
      ]
    },
    {
      "cell_type": "markdown",
      "id": "05f53f59",
      "metadata": {
        "id": "05f53f59"
      },
      "source": [
        "# Citing this notebook\n",
        "\n",
        "If you use this notebook in your work, please cite it as follows:\n",
        "    \n",
        "Pekar, V. (2022). Big Data for Decision Making. Lecture examples and exercises. (Version 1.0.0). URL: https://github.com/vpekar/bd4dm"
      ]
    },
    {
      "cell_type": "code",
      "execution_count": null,
      "id": "87541d3c-e0df-4ac5-b704-5e59dc015824",
      "metadata": {
        "id": "87541d3c-e0df-4ac5-b704-5e59dc015824"
      },
      "outputs": [],
      "source": []
    }
  ],
  "metadata": {
    "kernelspec": {
      "display_name": "Python 3 (ipykernel)",
      "language": "python",
      "name": "python3"
    },
    "language_info": {
      "codemirror_mode": {
        "name": "ipython",
        "version": 3
      },
      "file_extension": ".py",
      "mimetype": "text/x-python",
      "name": "python",
      "nbconvert_exporter": "python",
      "pygments_lexer": "ipython3",
      "version": "3.9.18"
    },
    "toc": {
      "base_numbering": 1,
      "nav_menu": {},
      "number_sections": true,
      "sideBar": true,
      "skip_h1_title": false,
      "title_cell": "Table of Contents",
      "title_sidebar": "Contents",
      "toc_cell": false,
      "toc_position": {},
      "toc_section_display": true,
      "toc_window_display": false
    },
    "colab": {
      "provenance": []
    }
  },
  "nbformat": 4,
  "nbformat_minor": 5
}